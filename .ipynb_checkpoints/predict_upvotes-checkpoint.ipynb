{
 "cells": [
  {
   "cell_type": "markdown",
   "metadata": {},
   "source": [
    "#### Import required libraries"
   ]
  },
  {
   "cell_type": "code",
   "execution_count": 1,
   "metadata": {},
   "outputs": [
    {
     "name": "stderr",
     "output_type": "stream",
     "text": [
      "/usr/local/lib/python3.7/site-packages/dask/dataframe/utils.py:15: FutureWarning: pandas.util.testing is deprecated. Use the functions in the public API at pandas.testing instead.\n",
      "  import pandas.util.testing as tm\n"
     ]
    }
   ],
   "source": [
    "import pandas as pd\n",
    "import numpy as np\n",
    "import matplotlib.pyplot as plt\n",
    "import os\n",
    "import seaborn as sns\n",
    "from sklearn.preprocessing import OneHotEncoder,StandardScaler,PolynomialFeatures\n",
    "from sklearn.linear_model import LinearRegression,Lasso,Ridge\n",
    "from sklearn.model_selection import cross_val_score,train_test_split\n",
    "from skopt import BayesSearchCV\n",
    "from skopt.space import Real, Categorical, Integer\n",
    "from sklearn.metrics import mean_squared_error,r2_score\n",
    "import xgboost as xgb"
   ]
  },
  {
   "cell_type": "markdown",
   "metadata": {},
   "source": [
    "#### Set data path"
   ]
  },
  {
   "cell_type": "code",
   "execution_count": 300,
   "metadata": {},
   "outputs": [],
   "source": [
    "data='data'"
   ]
  },
  {
   "cell_type": "markdown",
   "metadata": {},
   "source": [
    "#### Read train and test data "
   ]
  },
  {
   "cell_type": "code",
   "execution_count": 301,
   "metadata": {},
   "outputs": [],
   "source": [
    "train_data=pd.read_csv(os.path.join(data,'train_data.csv'))\n",
    "test_data=pd.read_csv(os.path.join(data,'test_data.csv'))"
   ]
  },
  {
   "cell_type": "markdown",
   "metadata": {},
   "source": [
    "#### Print shape of train and test data"
   ]
  },
  {
   "cell_type": "code",
   "execution_count": 302,
   "metadata": {},
   "outputs": [
    {
     "data": {
      "text/plain": [
       "(330045, 7)"
      ]
     },
     "execution_count": 302,
     "metadata": {},
     "output_type": "execute_result"
    }
   ],
   "source": [
    "train_data.shape"
   ]
  },
  {
   "cell_type": "code",
   "execution_count": 303,
   "metadata": {},
   "outputs": [
    {
     "data": {
      "text/plain": [
       "(141448, 6)"
      ]
     },
     "execution_count": 303,
     "metadata": {},
     "output_type": "execute_result"
    }
   ],
   "source": [
    "test_data.shape"
   ]
  },
  {
   "cell_type": "markdown",
   "metadata": {},
   "source": [
    "#### Print name of the columns and their dtypes of train data"
   ]
  },
  {
   "cell_type": "code",
   "execution_count": 304,
   "metadata": {},
   "outputs": [
    {
     "data": {
      "text/plain": [
       "ID              int64\n",
       "Tag            object\n",
       "Reputation    float64\n",
       "Answers       float64\n",
       "Username        int64\n",
       "Views         float64\n",
       "Upvotes       float64\n",
       "dtype: object"
      ]
     },
     "execution_count": 304,
     "metadata": {},
     "output_type": "execute_result"
    }
   ],
   "source": [
    "train_data.dtypes"
   ]
  },
  {
   "cell_type": "code",
   "execution_count": 305,
   "metadata": {},
   "outputs": [
    {
     "data": {
      "text/plain": [
       "0         155623\n",
       "1          21781\n",
       "2          56177\n",
       "3         168793\n",
       "4         112223\n",
       "           ...  \n",
       "330040     84919\n",
       "330041     76730\n",
       "330042     91701\n",
       "330043     80245\n",
       "330044    154692\n",
       "Name: Username, Length: 330045, dtype: int64"
      ]
     },
     "execution_count": 305,
     "metadata": {},
     "output_type": "execute_result"
    }
   ],
   "source": [
    "train_data['Username']"
   ]
  },
  {
   "cell_type": "markdown",
   "metadata": {},
   "source": [
    "#### Check if there are any null values in train and test data"
   ]
  },
  {
   "cell_type": "code",
   "execution_count": 306,
   "metadata": {},
   "outputs": [
    {
     "data": {
      "text/plain": [
       "ID            0\n",
       "Tag           0\n",
       "Reputation    0\n",
       "Answers       0\n",
       "Username      0\n",
       "Views         0\n",
       "Upvotes       0\n",
       "dtype: int64"
      ]
     },
     "execution_count": 306,
     "metadata": {},
     "output_type": "execute_result"
    }
   ],
   "source": [
    "train_data.isnull().sum()"
   ]
  },
  {
   "cell_type": "code",
   "execution_count": 307,
   "metadata": {},
   "outputs": [
    {
     "data": {
      "text/plain": [
       "ID            0\n",
       "Tag           0\n",
       "Reputation    0\n",
       "Answers       0\n",
       "Username      0\n",
       "Views         0\n",
       "dtype: int64"
      ]
     },
     "execution_count": 307,
     "metadata": {},
     "output_type": "execute_result"
    }
   ],
   "source": [
    "test_data.isnull().sum()"
   ]
  },
  {
   "cell_type": "markdown",
   "metadata": {},
   "source": [
    "#### Plot graphs to see the distribution of attributes"
   ]
  },
  {
   "cell_type": "code",
   "execution_count": 308,
   "metadata": {},
   "outputs": [
    {
     "data": {
      "text/plain": [
       "<matplotlib.axes._subplots.AxesSubplot at 0x7f5553d10e90>"
      ]
     },
     "execution_count": 308,
     "metadata": {},
     "output_type": "execute_result"
    },
    {
     "data": {
      "image/png": "[encoded data removed]",
      "text/plain": [
       "<Figure size 432x288 with 1 Axes>"
      ]
     },
     "metadata": {},
     "output_type": "display_data"
    }
   ],
   "source": [
    "sns.set(style=\"darkgrid\")\n",
    "sns.countplot(x=\"Tag\", data=train_data)"
   ]
  },
  {
   "cell_type": "code",
   "execution_count": 309,
   "metadata": {},
   "outputs": [
    {
     "data": {
      "text/plain": [
       "<matplotlib.axes._subplots.AxesSubplot at 0x7f55400dc750>"
      ]
     },
     "execution_count": 309,
     "metadata": {},
     "output_type": "execute_result"
    },
    {
     "data": {
      "image/png": "[encoded data removed]",
      "text/plain": [
       "<Figure size 432x288 with 1 Axes>"
      ]
     },
     "metadata": {},
     "output_type": "display_data"
    }
   ],
   "source": [
    "sns.distplot(train_data['Reputation'], kde=False)"
   ]
  },
  {
   "cell_type": "code",
   "execution_count": 310,
   "metadata": {},
   "outputs": [
    {
     "data": {
      "text/plain": [
       "<matplotlib.axes._subplots.AxesSubplot at 0x7f55197d5710>"
      ]
     },
     "execution_count": 310,
     "metadata": {},
     "output_type": "execute_result"
    },
    {
     "data": {
      "image/png": "[encoded data removed]",
      "text/plain": [
       "<Figure size 432x288 with 1 Axes>"
      ]
     },
     "metadata": {},
     "output_type": "display_data"
    }
   ],
   "source": [
    "\n",
    "sns.distplot(train_data['Answers'], kde=False)"
   ]
  },
  {
   "cell_type": "code",
   "execution_count": 311,
   "metadata": {},
   "outputs": [
    {
     "data": {
      "text/plain": [
       "<matplotlib.axes._subplots.AxesSubplot at 0x7f55197cb0d0>"
      ]
     },
     "execution_count": 311,
     "metadata": {},
     "output_type": "execute_result"
    },
    {
     "data": {
      "image/png": "[encoded data removed]",
      "text/plain": [
       "<Figure size 432x288 with 1 Axes>"
      ]
     },
     "metadata": {},
     "output_type": "display_data"
    }
   ],
   "source": [
    "sns.distplot(train_data['Views'], kde=False)"
   ]
  },
  {
   "cell_type": "markdown",
   "metadata": {},
   "source": [
    "#### Feature Engineering"
   ]
  },
  {
   "cell_type": "code",
   "execution_count": 312,
   "metadata": {},
   "outputs": [],
   "source": [
    "num_features=['Reputation', 'Answers', 'Views']"
   ]
  },
  {
   "cell_type": "markdown",
   "metadata": {},
   "source": [
    "#### 1. Getting polynomial features and selecting only newly created features"
   ]
  },
  {
   "cell_type": "code",
   "execution_count": 313,
   "metadata": {},
   "outputs": [],
   "source": [
    "poly=PolynomialFeatures(degree=2,include_bias=False)\n",
    "tmp=pd.DataFrame(poly.fit_transform(train_data[num_features])).loc[:,len(num_features):]\n",
    "train_data=train_data.join(tmp)"
   ]
  },
  {
   "cell_type": "code",
   "execution_count": 314,
   "metadata": {},
   "outputs": [],
   "source": [
    "tmp=pd.DataFrame(poly.transform(test_data[num_features])).loc[:,len(num_features):]\n",
    "test_data=test_data.join(tmp)"
   ]
  },
  {
   "cell_type": "markdown",
   "metadata": {},
   "source": [
    "#### 2.Tag-wise mean of numberical features"
   ]
  },
  {
   "cell_type": "code",
   "execution_count": 315,
   "metadata": {},
   "outputs": [],
   "source": [
    "tmp=train_data.groupby('Tag')[num_features].mean()\n",
    "tmp.columns=tmp.columns+'_mean'\n",
    "train_data=pd.merge(train_data,tmp.reset_index(),how='left',on='Tag')"
   ]
  },
  {
   "cell_type": "code",
   "execution_count": 316,
   "metadata": {},
   "outputs": [],
   "source": [
    "tmp=test_data.groupby('Tag')[num_features].mean()\n",
    "tmp.columns=tmp.columns+'_mean'\n",
    "test_data=pd.merge(test_data,tmp.reset_index(),how='left',on='Tag')"
   ]
  },
  {
   "cell_type": "markdown",
   "metadata": {},
   "source": [
    "#### 3.Username wise count of upvotes. Fill nulls with 0"
   ]
  },
  {
   "cell_type": "code",
   "execution_count": 317,
   "metadata": {},
   "outputs": [],
   "source": [
    "uname_count=train_data.groupby('Username')['Upvotes'].count().reset_index()\n",
    "uname_count.rename(columns={'Upvotes':'User_Upvote_Count'},inplace=True)\n",
    "train_data=pd.merge(train_data,uname_count,how='left',on='Username')\n",
    "train_data['User_Upvote_Count'].fillna(0,inplace=True)"
   ]
  },
  {
   "cell_type": "code",
   "execution_count": 318,
   "metadata": {},
   "outputs": [],
   "source": [
    "test_data=pd.merge(test_data,uname_count,how='left',on='Username')\n",
    "test_data['User_Upvote_Count'].fillna(0,inplace=True)"
   ]
  },
  {
   "cell_type": "code",
   "execution_count": 319,
   "metadata": {},
   "outputs": [],
   "source": [
    "train_data['uv']=train_data['Upvotes']/train_data['Views']\n",
    "uname_uv=train_data.groupby('Username')['uv'].mean().reset_index()\n",
    "uname_uv.rename(columns={'uv':'User_Upvote_Views_Mean'},inplace=True)\n",
    "train_data=pd.merge(train_data,uname_uv,how='left',on='Username')\n",
    "train_data['User_Upvote_Views_Mean'].fillna(0,inplace=True)\n",
    "\n",
    "train_data.drop('uv',axis=1,inplace=True)"
   ]
  },
  {
   "cell_type": "code",
   "execution_count": 320,
   "metadata": {},
   "outputs": [],
   "source": [
    "test_data=pd.merge(test_data,uname_uv,how='left',on='Username')\n",
    "test_data['User_Upvote_Views_Mean'].fillna(0,inplace=True)"
   ]
  },
  {
   "cell_type": "code",
   "execution_count": 321,
   "metadata": {},
   "outputs": [
    {
     "data": {
      "text/html": [
       "<div>\n",
       "<style scoped>\n",
       "    .dataframe tbody tr th:only-of-type {\n",
       "        vertical-align: middle;\n",
       "    }\n",
       "\n",
       "    .dataframe tbody tr th {\n",
       "        vertical-align: top;\n",
       "    }\n",
       "\n",
       "    .dataframe thead th {\n",
       "        text-align: right;\n",
       "    }\n",
       "</style>\n",
       "<table border=\"1\" class=\"dataframe\">\n",
       "  <thead>\n",
       "    <tr style=\"text-align: right;\">\n",
       "      <th></th>\n",
       "      <th>ID</th>\n",
       "      <th>Tag</th>\n",
       "      <th>Reputation</th>\n",
       "      <th>Answers</th>\n",
       "      <th>Username</th>\n",
       "      <th>Views</th>\n",
       "      <th>Upvotes</th>\n",
       "      <th>3</th>\n",
       "      <th>4</th>\n",
       "      <th>5</th>\n",
       "      <th>6</th>\n",
       "      <th>7</th>\n",
       "      <th>8</th>\n",
       "      <th>Reputation_mean</th>\n",
       "      <th>Answers_mean</th>\n",
       "      <th>Views_mean</th>\n",
       "      <th>User_Upvote_Count</th>\n",
       "      <th>User_Upvote_Views_Mean</th>\n",
       "    </tr>\n",
       "  </thead>\n",
       "  <tbody>\n",
       "    <tr>\n",
       "      <td>0</td>\n",
       "      <td>52664</td>\n",
       "      <td>a</td>\n",
       "      <td>3942.0</td>\n",
       "      <td>2.0</td>\n",
       "      <td>155623</td>\n",
       "      <td>7855.0</td>\n",
       "      <td>42.0</td>\n",
       "      <td>15539364.0</td>\n",
       "      <td>7884.0</td>\n",
       "      <td>3.096441e+07</td>\n",
       "      <td>4.0</td>\n",
       "      <td>15710.0</td>\n",
       "      <td>6.170102e+07</td>\n",
       "      <td>6065.168102</td>\n",
       "      <td>4.259189</td>\n",
       "      <td>31800.916327</td>\n",
       "      <td>19</td>\n",
       "      <td>0.008671</td>\n",
       "    </tr>\n",
       "    <tr>\n",
       "      <td>1</td>\n",
       "      <td>327662</td>\n",
       "      <td>a</td>\n",
       "      <td>26046.0</td>\n",
       "      <td>12.0</td>\n",
       "      <td>21781</td>\n",
       "      <td>55801.0</td>\n",
       "      <td>1175.0</td>\n",
       "      <td>678394116.0</td>\n",
       "      <td>312552.0</td>\n",
       "      <td>1.453393e+09</td>\n",
       "      <td>144.0</td>\n",
       "      <td>669612.0</td>\n",
       "      <td>3.113752e+09</td>\n",
       "      <td>6065.168102</td>\n",
       "      <td>4.259189</td>\n",
       "      <td>31800.916327</td>\n",
       "      <td>2</td>\n",
       "      <td>0.021218</td>\n",
       "    </tr>\n",
       "    <tr>\n",
       "      <td>2</td>\n",
       "      <td>468453</td>\n",
       "      <td>c</td>\n",
       "      <td>1358.0</td>\n",
       "      <td>4.0</td>\n",
       "      <td>56177</td>\n",
       "      <td>8067.0</td>\n",
       "      <td>60.0</td>\n",
       "      <td>1844164.0</td>\n",
       "      <td>5432.0</td>\n",
       "      <td>1.095499e+07</td>\n",
       "      <td>16.0</td>\n",
       "      <td>32268.0</td>\n",
       "      <td>6.507649e+07</td>\n",
       "      <td>10566.420657</td>\n",
       "      <td>4.047697</td>\n",
       "      <td>26746.676875</td>\n",
       "      <td>1</td>\n",
       "      <td>0.007438</td>\n",
       "    </tr>\n",
       "    <tr>\n",
       "      <td>3</td>\n",
       "      <td>96996</td>\n",
       "      <td>a</td>\n",
       "      <td>264.0</td>\n",
       "      <td>3.0</td>\n",
       "      <td>168793</td>\n",
       "      <td>27064.0</td>\n",
       "      <td>9.0</td>\n",
       "      <td>69696.0</td>\n",
       "      <td>792.0</td>\n",
       "      <td>7.144896e+06</td>\n",
       "      <td>9.0</td>\n",
       "      <td>81192.0</td>\n",
       "      <td>7.324601e+08</td>\n",
       "      <td>6065.168102</td>\n",
       "      <td>4.259189</td>\n",
       "      <td>31800.916327</td>\n",
       "      <td>3</td>\n",
       "      <td>0.000737</td>\n",
       "    </tr>\n",
       "    <tr>\n",
       "      <td>4</td>\n",
       "      <td>131465</td>\n",
       "      <td>c</td>\n",
       "      <td>4271.0</td>\n",
       "      <td>4.0</td>\n",
       "      <td>112223</td>\n",
       "      <td>13986.0</td>\n",
       "      <td>83.0</td>\n",
       "      <td>18241441.0</td>\n",
       "      <td>17084.0</td>\n",
       "      <td>5.973421e+07</td>\n",
       "      <td>16.0</td>\n",
       "      <td>55944.0</td>\n",
       "      <td>1.956082e+08</td>\n",
       "      <td>10566.420657</td>\n",
       "      <td>4.047697</td>\n",
       "      <td>26746.676875</td>\n",
       "      <td>3</td>\n",
       "      <td>0.005037</td>\n",
       "    </tr>\n",
       "  </tbody>\n",
       "</table>\n",
       "</div>"
      ],
      "text/plain": [
       "       ID Tag  Reputation  Answers  Username    Views  Upvotes            3  \\\n",
       "0   52664   a      3942.0      2.0    155623   7855.0     42.0   15539364.0   \n",
       "1  327662   a     26046.0     12.0     21781  55801.0   1175.0  678394116.0   \n",
       "2  468453   c      1358.0      4.0     56177   8067.0     60.0    1844164.0   \n",
       "3   96996   a       264.0      3.0    168793  27064.0      9.0      69696.0   \n",
       "4  131465   c      4271.0      4.0    112223  13986.0     83.0   18241441.0   \n",
       "\n",
       "          4             5      6         7             8  Reputation_mean  \\\n",
       "0    7884.0  3.096441e+07    4.0   15710.0  6.170102e+07      6065.168102   \n",
       "1  312552.0  1.453393e+09  144.0  669612.0  3.113752e+09      6065.168102   \n",
       "2    5432.0  1.095499e+07   16.0   32268.0  6.507649e+07     10566.420657   \n",
       "3     792.0  7.144896e+06    9.0   81192.0  7.324601e+08      6065.168102   \n",
       "4   17084.0  5.973421e+07   16.0   55944.0  1.956082e+08     10566.420657   \n",
       "\n",
       "   Answers_mean    Views_mean  User_Upvote_Count  User_Upvote_Views_Mean  \n",
       "0      4.259189  31800.916327                 19                0.008671  \n",
       "1      4.259189  31800.916327                  2                0.021218  \n",
       "2      4.047697  26746.676875                  1                0.007438  \n",
       "3      4.259189  31800.916327                  3                0.000737  \n",
       "4      4.047697  26746.676875                  3                0.005037  "
      ]
     },
     "execution_count": 321,
     "metadata": {},
     "output_type": "execute_result"
    }
   ],
   "source": [
    "train_data.head()"
   ]
  },
  {
   "cell_type": "markdown",
   "metadata": {},
   "source": [
    "#### Encode Categorical Variable"
   ]
  },
  {
   "cell_type": "code",
   "execution_count": 322,
   "metadata": {},
   "outputs": [],
   "source": [
    "train_data=pd.concat((train_data,pd.get_dummies(train_data.Tag,drop_first=True)),1)"
   ]
  },
  {
   "cell_type": "code",
   "execution_count": 323,
   "metadata": {},
   "outputs": [
    {
     "data": {
      "text/html": [
       "<div>\n",
       "<style scoped>\n",
       "    .dataframe tbody tr th:only-of-type {\n",
       "        vertical-align: middle;\n",
       "    }\n",
       "\n",
       "    .dataframe tbody tr th {\n",
       "        vertical-align: top;\n",
       "    }\n",
       "\n",
       "    .dataframe thead th {\n",
       "        text-align: right;\n",
       "    }\n",
       "</style>\n",
       "<table border=\"1\" class=\"dataframe\">\n",
       "  <thead>\n",
       "    <tr style=\"text-align: right;\">\n",
       "      <th></th>\n",
       "      <th>ID</th>\n",
       "      <th>Tag</th>\n",
       "      <th>Reputation</th>\n",
       "      <th>Answers</th>\n",
       "      <th>Username</th>\n",
       "      <th>Views</th>\n",
       "      <th>Upvotes</th>\n",
       "      <th>3</th>\n",
       "      <th>4</th>\n",
       "      <th>5</th>\n",
       "      <th>...</th>\n",
       "      <th>User_Upvote_Views_Mean</th>\n",
       "      <th>c</th>\n",
       "      <th>h</th>\n",
       "      <th>i</th>\n",
       "      <th>j</th>\n",
       "      <th>o</th>\n",
       "      <th>p</th>\n",
       "      <th>r</th>\n",
       "      <th>s</th>\n",
       "      <th>x</th>\n",
       "    </tr>\n",
       "  </thead>\n",
       "  <tbody>\n",
       "    <tr>\n",
       "      <td>0</td>\n",
       "      <td>52664</td>\n",
       "      <td>a</td>\n",
       "      <td>3942.0</td>\n",
       "      <td>2.0</td>\n",
       "      <td>155623</td>\n",
       "      <td>7855.0</td>\n",
       "      <td>42.0</td>\n",
       "      <td>15539364.0</td>\n",
       "      <td>7884.0</td>\n",
       "      <td>3.096441e+07</td>\n",
       "      <td>...</td>\n",
       "      <td>0.008671</td>\n",
       "      <td>0</td>\n",
       "      <td>0</td>\n",
       "      <td>0</td>\n",
       "      <td>0</td>\n",
       "      <td>0</td>\n",
       "      <td>0</td>\n",
       "      <td>0</td>\n",
       "      <td>0</td>\n",
       "      <td>0</td>\n",
       "    </tr>\n",
       "    <tr>\n",
       "      <td>1</td>\n",
       "      <td>327662</td>\n",
       "      <td>a</td>\n",
       "      <td>26046.0</td>\n",
       "      <td>12.0</td>\n",
       "      <td>21781</td>\n",
       "      <td>55801.0</td>\n",
       "      <td>1175.0</td>\n",
       "      <td>678394116.0</td>\n",
       "      <td>312552.0</td>\n",
       "      <td>1.453393e+09</td>\n",
       "      <td>...</td>\n",
       "      <td>0.021218</td>\n",
       "      <td>0</td>\n",
       "      <td>0</td>\n",
       "      <td>0</td>\n",
       "      <td>0</td>\n",
       "      <td>0</td>\n",
       "      <td>0</td>\n",
       "      <td>0</td>\n",
       "      <td>0</td>\n",
       "      <td>0</td>\n",
       "    </tr>\n",
       "    <tr>\n",
       "      <td>2</td>\n",
       "      <td>468453</td>\n",
       "      <td>c</td>\n",
       "      <td>1358.0</td>\n",
       "      <td>4.0</td>\n",
       "      <td>56177</td>\n",
       "      <td>8067.0</td>\n",
       "      <td>60.0</td>\n",
       "      <td>1844164.0</td>\n",
       "      <td>5432.0</td>\n",
       "      <td>1.095499e+07</td>\n",
       "      <td>...</td>\n",
       "      <td>0.007438</td>\n",
       "      <td>1</td>\n",
       "      <td>0</td>\n",
       "      <td>0</td>\n",
       "      <td>0</td>\n",
       "      <td>0</td>\n",
       "      <td>0</td>\n",
       "      <td>0</td>\n",
       "      <td>0</td>\n",
       "      <td>0</td>\n",
       "    </tr>\n",
       "    <tr>\n",
       "      <td>3</td>\n",
       "      <td>96996</td>\n",
       "      <td>a</td>\n",
       "      <td>264.0</td>\n",
       "      <td>3.0</td>\n",
       "      <td>168793</td>\n",
       "      <td>27064.0</td>\n",
       "      <td>9.0</td>\n",
       "      <td>69696.0</td>\n",
       "      <td>792.0</td>\n",
       "      <td>7.144896e+06</td>\n",
       "      <td>...</td>\n",
       "      <td>0.000737</td>\n",
       "      <td>0</td>\n",
       "      <td>0</td>\n",
       "      <td>0</td>\n",
       "      <td>0</td>\n",
       "      <td>0</td>\n",
       "      <td>0</td>\n",
       "      <td>0</td>\n",
       "      <td>0</td>\n",
       "      <td>0</td>\n",
       "    </tr>\n",
       "    <tr>\n",
       "      <td>4</td>\n",
       "      <td>131465</td>\n",
       "      <td>c</td>\n",
       "      <td>4271.0</td>\n",
       "      <td>4.0</td>\n",
       "      <td>112223</td>\n",
       "      <td>13986.0</td>\n",
       "      <td>83.0</td>\n",
       "      <td>18241441.0</td>\n",
       "      <td>17084.0</td>\n",
       "      <td>5.973421e+07</td>\n",
       "      <td>...</td>\n",
       "      <td>0.005037</td>\n",
       "      <td>1</td>\n",
       "      <td>0</td>\n",
       "      <td>0</td>\n",
       "      <td>0</td>\n",
       "      <td>0</td>\n",
       "      <td>0</td>\n",
       "      <td>0</td>\n",
       "      <td>0</td>\n",
       "      <td>0</td>\n",
       "    </tr>\n",
       "    <tr>\n",
       "      <td>...</td>\n",
       "      <td>...</td>\n",
       "      <td>...</td>\n",
       "      <td>...</td>\n",
       "      <td>...</td>\n",
       "      <td>...</td>\n",
       "      <td>...</td>\n",
       "      <td>...</td>\n",
       "      <td>...</td>\n",
       "      <td>...</td>\n",
       "      <td>...</td>\n",
       "      <td>...</td>\n",
       "      <td>...</td>\n",
       "      <td>...</td>\n",
       "      <td>...</td>\n",
       "      <td>...</td>\n",
       "      <td>...</td>\n",
       "      <td>...</td>\n",
       "      <td>...</td>\n",
       "      <td>...</td>\n",
       "      <td>...</td>\n",
       "      <td>...</td>\n",
       "    </tr>\n",
       "    <tr>\n",
       "      <td>330040</td>\n",
       "      <td>339800</td>\n",
       "      <td>c</td>\n",
       "      <td>36.0</td>\n",
       "      <td>2.0</td>\n",
       "      <td>84919</td>\n",
       "      <td>1063.0</td>\n",
       "      <td>0.0</td>\n",
       "      <td>1296.0</td>\n",
       "      <td>72.0</td>\n",
       "      <td>3.826800e+04</td>\n",
       "      <td>...</td>\n",
       "      <td>0.000000</td>\n",
       "      <td>1</td>\n",
       "      <td>0</td>\n",
       "      <td>0</td>\n",
       "      <td>0</td>\n",
       "      <td>0</td>\n",
       "      <td>0</td>\n",
       "      <td>0</td>\n",
       "      <td>0</td>\n",
       "      <td>0</td>\n",
       "    </tr>\n",
       "    <tr>\n",
       "      <td>330041</td>\n",
       "      <td>253800</td>\n",
       "      <td>c</td>\n",
       "      <td>1649.0</td>\n",
       "      <td>2.0</td>\n",
       "      <td>76730</td>\n",
       "      <td>23319.0</td>\n",
       "      <td>73.0</td>\n",
       "      <td>2719201.0</td>\n",
       "      <td>3298.0</td>\n",
       "      <td>3.845303e+07</td>\n",
       "      <td>...</td>\n",
       "      <td>0.002925</td>\n",
       "      <td>1</td>\n",
       "      <td>0</td>\n",
       "      <td>0</td>\n",
       "      <td>0</td>\n",
       "      <td>0</td>\n",
       "      <td>0</td>\n",
       "      <td>0</td>\n",
       "      <td>0</td>\n",
       "      <td>0</td>\n",
       "    </tr>\n",
       "    <tr>\n",
       "      <td>330042</td>\n",
       "      <td>210756</td>\n",
       "      <td>c</td>\n",
       "      <td>6178.0</td>\n",
       "      <td>2.0</td>\n",
       "      <td>91701</td>\n",
       "      <td>2453.0</td>\n",
       "      <td>15.0</td>\n",
       "      <td>38167684.0</td>\n",
       "      <td>12356.0</td>\n",
       "      <td>1.515463e+07</td>\n",
       "      <td>...</td>\n",
       "      <td>0.013492</td>\n",
       "      <td>1</td>\n",
       "      <td>0</td>\n",
       "      <td>0</td>\n",
       "      <td>0</td>\n",
       "      <td>0</td>\n",
       "      <td>0</td>\n",
       "      <td>0</td>\n",
       "      <td>0</td>\n",
       "      <td>0</td>\n",
       "    </tr>\n",
       "    <tr>\n",
       "      <td>330043</td>\n",
       "      <td>56089</td>\n",
       "      <td>j</td>\n",
       "      <td>89.0</td>\n",
       "      <td>2.0</td>\n",
       "      <td>80245</td>\n",
       "      <td>2107.0</td>\n",
       "      <td>3.0</td>\n",
       "      <td>7921.0</td>\n",
       "      <td>178.0</td>\n",
       "      <td>1.875230e+05</td>\n",
       "      <td>...</td>\n",
       "      <td>0.001424</td>\n",
       "      <td>0</td>\n",
       "      <td>0</td>\n",
       "      <td>0</td>\n",
       "      <td>1</td>\n",
       "      <td>0</td>\n",
       "      <td>0</td>\n",
       "      <td>0</td>\n",
       "      <td>0</td>\n",
       "      <td>0</td>\n",
       "    </tr>\n",
       "    <tr>\n",
       "      <td>330044</td>\n",
       "      <td>300553</td>\n",
       "      <td>j</td>\n",
       "      <td>2001.0</td>\n",
       "      <td>4.0</td>\n",
       "      <td>154692</td>\n",
       "      <td>2554.0</td>\n",
       "      <td>37.0</td>\n",
       "      <td>4004001.0</td>\n",
       "      <td>8004.0</td>\n",
       "      <td>5.110554e+06</td>\n",
       "      <td>...</td>\n",
       "      <td>0.004966</td>\n",
       "      <td>0</td>\n",
       "      <td>0</td>\n",
       "      <td>0</td>\n",
       "      <td>1</td>\n",
       "      <td>0</td>\n",
       "      <td>0</td>\n",
       "      <td>0</td>\n",
       "      <td>0</td>\n",
       "      <td>0</td>\n",
       "    </tr>\n",
       "  </tbody>\n",
       "</table>\n",
       "<p>330045 rows × 27 columns</p>\n",
       "</div>"
      ],
      "text/plain": [
       "            ID Tag  Reputation  Answers  Username    Views  Upvotes  \\\n",
       "0        52664   a      3942.0      2.0    155623   7855.0     42.0   \n",
       "1       327662   a     26046.0     12.0     21781  55801.0   1175.0   \n",
       "2       468453   c      1358.0      4.0     56177   8067.0     60.0   \n",
       "3        96996   a       264.0      3.0    168793  27064.0      9.0   \n",
       "4       131465   c      4271.0      4.0    112223  13986.0     83.0   \n",
       "...        ...  ..         ...      ...       ...      ...      ...   \n",
       "330040  339800   c        36.0      2.0     84919   1063.0      0.0   \n",
       "330041  253800   c      1649.0      2.0     76730  23319.0     73.0   \n",
       "330042  210756   c      6178.0      2.0     91701   2453.0     15.0   \n",
       "330043   56089   j        89.0      2.0     80245   2107.0      3.0   \n",
       "330044  300553   j      2001.0      4.0    154692   2554.0     37.0   \n",
       "\n",
       "                  3         4             5  ...  User_Upvote_Views_Mean  c  \\\n",
       "0        15539364.0    7884.0  3.096441e+07  ...                0.008671  0   \n",
       "1       678394116.0  312552.0  1.453393e+09  ...                0.021218  0   \n",
       "2         1844164.0    5432.0  1.095499e+07  ...                0.007438  1   \n",
       "3           69696.0     792.0  7.144896e+06  ...                0.000737  0   \n",
       "4        18241441.0   17084.0  5.973421e+07  ...                0.005037  1   \n",
       "...             ...       ...           ...  ...                     ... ..   \n",
       "330040       1296.0      72.0  3.826800e+04  ...                0.000000  1   \n",
       "330041    2719201.0    3298.0  3.845303e+07  ...                0.002925  1   \n",
       "330042   38167684.0   12356.0  1.515463e+07  ...                0.013492  1   \n",
       "330043       7921.0     178.0  1.875230e+05  ...                0.001424  0   \n",
       "330044    4004001.0    8004.0  5.110554e+06  ...                0.004966  0   \n",
       "\n",
       "        h  i  j  o  p  r  s  x  \n",
       "0       0  0  0  0  0  0  0  0  \n",
       "1       0  0  0  0  0  0  0  0  \n",
       "2       0  0  0  0  0  0  0  0  \n",
       "3       0  0  0  0  0  0  0  0  \n",
       "4       0  0  0  0  0  0  0  0  \n",
       "...    .. .. .. .. .. .. .. ..  \n",
       "330040  0  0  0  0  0  0  0  0  \n",
       "330041  0  0  0  0  0  0  0  0  \n",
       "330042  0  0  0  0  0  0  0  0  \n",
       "330043  0  0  1  0  0  0  0  0  \n",
       "330044  0  0  1  0  0  0  0  0  \n",
       "\n",
       "[330045 rows x 27 columns]"
      ]
     },
     "execution_count": 323,
     "metadata": {},
     "output_type": "execute_result"
    }
   ],
   "source": [
    "train_data"
   ]
  },
  {
   "cell_type": "code",
   "execution_count": 324,
   "metadata": {},
   "outputs": [],
   "source": [
    "test_data=pd.concat((test_data,pd.get_dummies(test_data.Tag,drop_first=True)),1)"
   ]
  },
  {
   "cell_type": "code",
   "execution_count": 325,
   "metadata": {},
   "outputs": [],
   "source": [
    "train_data.drop(['Tag','ID'],axis=1,inplace=True)\n",
    "test_data.drop(['Tag','ID'],axis=1,inplace=True)"
   ]
  },
  {
   "cell_type": "markdown",
   "metadata": {},
   "source": [
    "#### Remove target variable from train data"
   ]
  },
  {
   "cell_type": "code",
   "execution_count": 326,
   "metadata": {},
   "outputs": [],
   "source": [
    "target_labels=train_data['Upvotes']\n",
    "train_data.drop(['Upvotes'],axis=1,inplace=True)"
   ]
  },
  {
   "cell_type": "markdown",
   "metadata": {},
   "source": [
    "#### Split data into train data , val data and test data "
   ]
  },
  {
   "cell_type": "code",
   "execution_count": 327,
   "metadata": {},
   "outputs": [],
   "source": [
    "X_train,X_test,y_train,y_test= train_test_split(train_data,target_labels,test_size=0.2,random_state=42)"
   ]
  },
  {
   "cell_type": "code",
   "execution_count": 328,
   "metadata": {},
   "outputs": [],
   "source": [
    "X_train, X_val, y_train, y_val = train_test_split(X_train, y_train, test_size=0.2, random_state=42)"
   ]
  },
  {
   "cell_type": "markdown",
   "metadata": {},
   "source": [
    "#### Scale train, val and test data"
   ]
  },
  {
   "cell_type": "code",
   "execution_count": 329,
   "metadata": {},
   "outputs": [],
   "source": [
    "scaler=StandardScaler()\n",
    "X_train=pd.DataFrame(scaler.fit_transform(X_train),columns=X_train.columns,index=X_train.index)\n",
    "X_val=pd.DataFrame(scaler.transform(X_val),columns=X_val.columns,index=X_val.index)\n",
    "X_test=pd.DataFrame(scaler.transform(X_test),columns=X_test.columns,index=X_test.index)\n",
    "test_data=pd.DataFrame(scaler.transform(test_data),columns=test_data.columns,index=test_data.index)"
   ]
  },
  {
   "cell_type": "markdown",
   "metadata": {},
   "source": [
    "#### Create a basic baseline model using Linear Regression"
   ]
  },
  {
   "cell_type": "code",
   "execution_count": 330,
   "metadata": {},
   "outputs": [],
   "source": [
    "def submission(model,test_data,filename):\n",
    "    predictions=model.predict(test_data)\n",
    "    ids=pd.read_csv(os.path.join(data,'test_data.csv'))['ID']\n",
    "    submissions=pd.DataFrame({'ID':ids,'Upvotes':predictions})\n",
    "    submissions.to_csv(filename + '.csv',index=False)\n",
    "    print(\"Submissions saved in {} \".format(filename + '.csv'))"
   ]
  },
  {
   "cell_type": "code",
   "execution_count": 331,
   "metadata": {},
   "outputs": [],
   "source": [
    "linear_reg=LinearRegression()"
   ]
  },
  {
   "cell_type": "code",
   "execution_count": 332,
   "metadata": {},
   "outputs": [],
   "source": [
    "scoring='neg_mean_squared_error'"
   ]
  },
  {
   "cell_type": "code",
   "execution_count": 333,
   "metadata": {},
   "outputs": [
    {
     "name": "stdout",
     "output_type": "stream",
     "text": [
      "RMSE:  885.2763921476624\n"
     ]
    }
   ],
   "source": [
    "scores=cross_val_score(linear_reg,X_train,y_train,n_jobs=-1,cv=5,scoring=scoring)\n",
    "print('RMSE: ',np.sqrt(-scores).mean())"
   ]
  },
  {
   "cell_type": "code",
   "execution_count": 334,
   "metadata": {},
   "outputs": [
    {
     "data": {
      "text/plain": [
       "LinearRegression(copy_X=True, fit_intercept=True, n_jobs=None, normalize=False)"
      ]
     },
     "execution_count": 334,
     "metadata": {},
     "output_type": "execute_result"
    }
   ],
   "source": [
    "linear_reg.fit(X_train,y_train)"
   ]
  },
  {
   "cell_type": "code",
   "execution_count": 335,
   "metadata": {},
   "outputs": [
    {
     "name": "stdout",
     "output_type": "stream",
     "text": [
      "Train RMSE: 848.8878954757333\n",
      "Test RMSE: 1543.7805505190079\n"
     ]
    }
   ],
   "source": [
    "y_train_pred=linear_reg.predict(X_train)\n",
    "y_val_pred=linear_reg.predict(X_val)\n",
    "y_pred_lr=np.append(y_train_pred,y_val_pred)\n",
    "print('Train RMSE:',np.sqrt(mean_squared_error(y_train,y_train_pred)))\n",
    "print('Test RMSE:',np.sqrt(mean_squared_error(y_val,y_val_pred)))"
   ]
  },
  {
   "cell_type": "code",
   "execution_count": 336,
   "metadata": {},
   "outputs": [
    {
     "name": "stdout",
     "output_type": "stream",
     "text": [
      "Submissions saved in linear_reg.csv \n"
     ]
    }
   ],
   "source": [
    "submission(linear_reg,test_data,'linear_reg')"
   ]
  },
  {
   "cell_type": "markdown",
   "metadata": {},
   "source": [
    "#### Ridge Regression"
   ]
  },
  {
   "cell_type": "code",
   "execution_count": 337,
   "metadata": {},
   "outputs": [],
   "source": [
    "ridge=Ridge()"
   ]
  },
  {
   "cell_type": "code",
   "execution_count": 338,
   "metadata": {},
   "outputs": [
    {
     "name": "stdout",
     "output_type": "stream",
     "text": [
      "RMSE:  885.2672439250002\n"
     ]
    }
   ],
   "source": [
    "scores=cross_val_score(ridge,X_train,y_train,n_jobs=-1,cv=5,scoring=scoring)\n",
    "print('RMSE: ',np.sqrt(-scores).mean())"
   ]
  },
  {
   "cell_type": "code",
   "execution_count": 339,
   "metadata": {},
   "outputs": [
    {
     "data": {
      "text/plain": [
       "Ridge(alpha=1.0, copy_X=True, fit_intercept=True, max_iter=None,\n",
       "      normalize=False, random_state=None, solver='auto', tol=0.001)"
      ]
     },
     "execution_count": 339,
     "metadata": {},
     "output_type": "execute_result"
    }
   ],
   "source": [
    "ridge.fit(X_train,y_train)"
   ]
  },
  {
   "cell_type": "code",
   "execution_count": 340,
   "metadata": {},
   "outputs": [
    {
     "name": "stdout",
     "output_type": "stream",
     "text": [
      "Train RMSE: 848.8878957333977\n",
      "Test RMSE: 1543.7959153002294\n"
     ]
    }
   ],
   "source": [
    "y_train_pred=ridge.predict(X_train)\n",
    "y_val_pred=ridge.predict(X_val)\n",
    "y_pred_lr=np.append(y_train_pred,y_val_pred)\n",
    "print('Train RMSE:',np.sqrt(mean_squared_error(y_train,y_train_pred)))\n",
    "print('Test RMSE:',np.sqrt(mean_squared_error(y_val,y_val_pred)))"
   ]
  },
  {
   "cell_type": "code",
   "execution_count": 341,
   "metadata": {},
   "outputs": [
    {
     "name": "stdout",
     "output_type": "stream",
     "text": [
      "Submissions saved in ridge_reg.csv \n"
     ]
    }
   ],
   "source": [
    "submission(ridge,test_data,'ridge_reg')"
   ]
  },
  {
   "cell_type": "markdown",
   "metadata": {},
   "source": [
    "#### XGBoost Regression"
   ]
  },
  {
   "cell_type": "code",
   "execution_count": 342,
   "metadata": {},
   "outputs": [],
   "source": [
    "xgb_reg=xgb.XGBRegressor(base_score=0.5, booster='gbtree', colsample_bylevel=1,\n",
    "             colsample_bynode=1, colsample_bytree=1, gamma=0, gpu_id=-1,\n",
    "             importance_type='gain', interaction_constraints='',\n",
    "             learning_rate=0.200000012, max_delta_step=0, max_depth=12,\n",
    "             min_child_weight=0, monotone_constraints='()',\n",
    "             n_estimators=100, n_jobs=0, num_parallel_tree=1,\n",
    "             objective='reg:squarederror', random_state=0, reg_alpha=1,\n",
    "             reg_lambda=1, scale_pos_weight=1, subsample=1, tree_method='exact',\n",
    "             validate_parameters=1, verbosity=None)"
   ]
  },
  {
   "cell_type": "code",
   "execution_count": null,
   "metadata": {},
   "outputs": [],
   "source": [
    "xgb_reg.fit(X_train,y_train)\n",
    "y_train_pred=xgb_reg.predict(X_train)\n",
    "y_val_pred=xgb_reg.predict(X_val)\n",
    "y_pred_xgb=np.append(y_train_pred,y_val_pred)\n",
    "print('Train RMSE:',np.sqrt(mean_squared_error(y_train,y_train_pred)))\n",
    "print('Test RMSE:',np.sqrt(mean_squared_error(y_val,y_val_pred)))"
   ]
  },
  {
   "cell_type": "code",
   "execution_count": null,
   "metadata": {},
   "outputs": [],
   "source": [
    "# Bayesian Optimization\n",
    "opt = BayesSearchCV(\n",
    "    estimator = xgb.XGBRegressor(\n",
    "        n_jobs = -1,\n",
    "        tree_method='approx'\n",
    "    ),\n",
    "    search_spaces = {\n",
    "        'learning_rate': Real(0.01, 1.0, 'log-uniform'),\n",
    "        'min_child_weight': Integer(0, 20),\n",
    "        'max_depth': Integer(3,4,5),\n",
    "#         'max_delta_step': (0, 20),\n",
    "        'subsample': Real(0.1, 1.0, 'uniform'),\n",
    "        'colsample_bytree': Real(0.1, 1.0, 'uniform'),\n",
    "        'colsample_bylevel': Real(0.1, 1.0, 'uniform'),\n",
    "        'reg_lambda': Real(1e-1, 10, 'log-uniform'),\n",
    "        'reg_alpha': Real(1e-1, 1.0, 'log-uniform'),\n",
    "#         'gamma': (1e-9, 0.5, 'log-uniform'),\n",
    "        'base_score':Real(1e-1, 0.5, 'log-uniform')\n",
    "    },    \n",
    "    scoring = scoring,\n",
    "    cv =3,\n",
    "    n_jobs = -1,\n",
    "    refit = True,\n",
    "    random_state = 42\n",
    ")\n"
   ]
  },
  {
   "cell_type": "code",
   "execution_count": null,
   "metadata": {},
   "outputs": [],
   "source": [
    "opt.fit(X_train,y_train)"
   ]
  },
  {
   "cell_type": "code",
   "execution_count": null,
   "metadata": {},
   "outputs": [],
   "source": [
    "xgb_reg=xgb.XGBRegressor(random_state=0,n_jobs=-1,**opt.best_params_)\n",
    "xgb_reg.fit(X_train,y_train)\n",
    "y_train_pred=xgb_reg.predict(X_train)\n",
    "y_val_pred=xgb_reg.predict(X_val)\n",
    "y_pred_xgb=np.append(y_train_pred,y_val_pred)\n",
    "print('Train RMSE:',np.sqrt(mean_squared_error(y_train,y_train_pred)))\n",
    "print('Test RMSE:',np.sqrt(mean_squared_error(y_val,y_val_pred)))"
   ]
  },
  {
   "cell_type": "code",
   "execution_count": null,
   "metadata": {},
   "outputs": [],
   "source": [
    "submission(xgb_reg,test_data,'xgb_reg')"
   ]
  },
  {
   "cell_type": "markdown",
   "metadata": {},
   "source": [
    "#### Stacking Linear Regression and Xgboost"
   ]
  },
  {
   "cell_type": "code",
   "execution_count": null,
   "metadata": {},
   "outputs": [],
   "source": [
    "y_pred_stack=(y_pred_lr+y_pred_xgb)/2"
   ]
  },
  {
   "cell_type": "code",
   "execution_count": null,
   "metadata": {},
   "outputs": [],
   "source": [
    "y_train_pred=y_pred_stack[:len(y_train)]\n",
    "y_val_pred=y_pred_stack[len(y_train):]\n",
    "print('Train RMSE:',np.sqrt(mean_squared_error(y_train,y_train_pred)))\n",
    "print('Test RMSE:',np.sqrt(mean_squared_error(y_val,y_val_pred)))"
   ]
  },
  {
   "cell_type": "markdown",
   "metadata": {},
   "source": [
    "#### Result on test data"
   ]
  },
  {
   "cell_type": "code",
   "execution_count": null,
   "metadata": {},
   "outputs": [],
   "source": [
    "X_train_1=pd.concat([X_train,X_val])\n",
    "y_train_1=pd.concat([y_train,y_val])"
   ]
  },
  {
   "cell_type": "code",
   "execution_count": null,
   "metadata": {},
   "outputs": [],
   "source": [
    "linear_reg.fit(X_train_1,y_train_1)\n",
    "y_pred_lr=linear_reg.predict(X_test)"
   ]
  },
  {
   "cell_type": "code",
   "execution_count": null,
   "metadata": {},
   "outputs": [],
   "source": [
    "xgb_reg.fit(X_train_1,y_train_1)\n",
    "y_pred_xgb=xgb_reg.predict(X_test)"
   ]
  },
  {
   "cell_type": "code",
   "execution_count": null,
   "metadata": {},
   "outputs": [],
   "source": [
    "y_pred_stack=(y_pred_lr+y_pred_xgb)/2\n",
    "print('Test RMSE:',np.sqrt(mean_squared_error(y_test,y_pred_stack)))"
   ]
  },
  {
   "cell_type": "markdown",
   "metadata": {},
   "source": [
    "#### Submisssion for stacking"
   ]
  },
  {
   "cell_type": "code",
   "execution_count": null,
   "metadata": {},
   "outputs": [],
   "source": [
    "y_pred_lr=linear_reg.predict(test_data)\n",
    "y_pred_xgb=xgb_reg.predict(test_data)"
   ]
  },
  {
   "cell_type": "code",
   "execution_count": null,
   "metadata": {},
   "outputs": [],
   "source": [
    "y_pred_stacked=(y_pred_lr+y_pred_xgb)/2"
   ]
  },
  {
   "cell_type": "code",
   "execution_count": null,
   "metadata": {},
   "outputs": [],
   "source": [
    "test_ids=pd.read_csv(os.path.join(data,'test_data.csv'))['ID']"
   ]
  },
  {
   "cell_type": "code",
   "execution_count": null,
   "metadata": {},
   "outputs": [],
   "source": [
    "submission=pd.DataFrame({'ID':test_ids})\n",
    "submission['Upvotes']=list(map(int,y_pred_stacked))"
   ]
  },
  {
   "cell_type": "code",
   "execution_count": null,
   "metadata": {},
   "outputs": [],
   "source": [
    "submission.to_csv(\"stacking.csv\",index=False)"
   ]
  },
  {
   "cell_type": "code",
   "execution_count": null,
   "metadata": {},
   "outputs": [],
   "source": []
  }
 ],
 "metadata": {
  "kernelspec": {
   "display_name": "Python 3",
   "language": "python",
   "name": "python3"
  },
  "language_info": {
   "codemirror_mode": {
    "name": "ipython",
    "version": 3
   },
   "file_extension": ".py",
   "mimetype": "text/x-python",
   "name": "python",
   "nbconvert_exporter": "python",
   "pygments_lexer": "ipython3",
   "version": "3.7.7"
  }
 },
 "nbformat": 4,
 "nbformat_minor": 2
}
